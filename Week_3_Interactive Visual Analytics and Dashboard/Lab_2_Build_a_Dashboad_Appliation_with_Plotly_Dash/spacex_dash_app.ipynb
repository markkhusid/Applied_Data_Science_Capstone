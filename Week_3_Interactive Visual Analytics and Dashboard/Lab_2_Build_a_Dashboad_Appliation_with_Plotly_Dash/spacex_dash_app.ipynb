{
 "cells": [
  {
   "cell_type": "code",
   "execution_count": 1,
   "id": "6f9a63fa-72dc-44bf-8ee0-4dca82a2ffe6",
   "metadata": {},
   "outputs": [],
   "source": [
    "# Import required libraries\n",
    "import pandas as pd\n",
    "import dash\n",
    "#import dash_html_components as html\n",
    "from dash import html\n",
    "#import dash_core_components as dcc\n",
    "from dash import dcc\n",
    "from dash.dependencies import Input, Output\n",
    "import plotly.express as px"
   ]
  },
  {
   "cell_type": "code",
   "execution_count": 2,
   "id": "adc85a82-5d39-477b-88bb-657e89edf527",
   "metadata": {},
   "outputs": [],
   "source": [
    "# Read the airline data into pandas dataframe\n",
    "spacex_df = pd.read_csv(\"spacex_launch_dash.csv\")"
   ]
  },
  {
   "cell_type": "code",
   "execution_count": 3,
   "id": "aff6ebeb-09f7-4438-9bcc-9d8e2f146276",
   "metadata": {},
   "outputs": [
    {
     "data": {
      "text/html": [
       "<div>\n",
       "<style scoped>\n",
       "    .dataframe tbody tr th:only-of-type {\n",
       "        vertical-align: middle;\n",
       "    }\n",
       "\n",
       "    .dataframe tbody tr th {\n",
       "        vertical-align: top;\n",
       "    }\n",
       "\n",
       "    .dataframe thead th {\n",
       "        text-align: right;\n",
       "    }\n",
       "</style>\n",
       "<table border=\"1\" class=\"dataframe\">\n",
       "  <thead>\n",
       "    <tr style=\"text-align: right;\">\n",
       "      <th></th>\n",
       "      <th>Unnamed: 0</th>\n",
       "      <th>Flight Number</th>\n",
       "      <th>Launch Site</th>\n",
       "      <th>class</th>\n",
       "      <th>Payload Mass (kg)</th>\n",
       "      <th>Booster Version</th>\n",
       "      <th>Booster Version Category</th>\n",
       "    </tr>\n",
       "  </thead>\n",
       "  <tbody>\n",
       "    <tr>\n",
       "      <th>0</th>\n",
       "      <td>0</td>\n",
       "      <td>1</td>\n",
       "      <td>CCAFS LC-40</td>\n",
       "      <td>0</td>\n",
       "      <td>0.0</td>\n",
       "      <td>F9 v1.0  B0003</td>\n",
       "      <td>v1.0</td>\n",
       "    </tr>\n",
       "    <tr>\n",
       "      <th>1</th>\n",
       "      <td>1</td>\n",
       "      <td>2</td>\n",
       "      <td>CCAFS LC-40</td>\n",
       "      <td>0</td>\n",
       "      <td>0.0</td>\n",
       "      <td>F9 v1.0  B0004</td>\n",
       "      <td>v1.0</td>\n",
       "    </tr>\n",
       "    <tr>\n",
       "      <th>2</th>\n",
       "      <td>2</td>\n",
       "      <td>3</td>\n",
       "      <td>CCAFS LC-40</td>\n",
       "      <td>0</td>\n",
       "      <td>525.0</td>\n",
       "      <td>F9 v1.0  B0005</td>\n",
       "      <td>v1.0</td>\n",
       "    </tr>\n",
       "    <tr>\n",
       "      <th>3</th>\n",
       "      <td>3</td>\n",
       "      <td>4</td>\n",
       "      <td>CCAFS LC-40</td>\n",
       "      <td>0</td>\n",
       "      <td>500.0</td>\n",
       "      <td>F9 v1.0  B0006</td>\n",
       "      <td>v1.0</td>\n",
       "    </tr>\n",
       "    <tr>\n",
       "      <th>4</th>\n",
       "      <td>4</td>\n",
       "      <td>5</td>\n",
       "      <td>CCAFS LC-40</td>\n",
       "      <td>0</td>\n",
       "      <td>677.0</td>\n",
       "      <td>F9 v1.0  B0007</td>\n",
       "      <td>v1.0</td>\n",
       "    </tr>\n",
       "  </tbody>\n",
       "</table>\n",
       "</div>"
      ],
      "text/plain": [
       "   Unnamed: 0  Flight Number  Launch Site  class  Payload Mass (kg)  \\\n",
       "0           0              1  CCAFS LC-40      0                0.0   \n",
       "1           1              2  CCAFS LC-40      0                0.0   \n",
       "2           2              3  CCAFS LC-40      0              525.0   \n",
       "3           3              4  CCAFS LC-40      0              500.0   \n",
       "4           4              5  CCAFS LC-40      0              677.0   \n",
       "\n",
       "  Booster Version Booster Version Category  \n",
       "0  F9 v1.0  B0003                     v1.0  \n",
       "1  F9 v1.0  B0004                     v1.0  \n",
       "2  F9 v1.0  B0005                     v1.0  \n",
       "3  F9 v1.0  B0006                     v1.0  \n",
       "4  F9 v1.0  B0007                     v1.0  "
      ]
     },
     "execution_count": 3,
     "metadata": {},
     "output_type": "execute_result"
    }
   ],
   "source": [
    "spacex_df.head()"
   ]
  },
  {
   "cell_type": "code",
   "execution_count": 4,
   "id": "6ac95f70-d6c2-4e3d-8c80-a5b7cff916da",
   "metadata": {},
   "outputs": [],
   "source": [
    "max_payload = spacex_df['Payload Mass (kg)'].max()\n",
    "min_payload = spacex_df['Payload Mass (kg)'].min()"
   ]
  },
  {
   "cell_type": "code",
   "execution_count": 5,
   "id": "236d13cd-268a-4911-936e-3cbe8504ff83",
   "metadata": {},
   "outputs": [
    {
     "data": {
      "text/plain": [
       "9600.0"
      ]
     },
     "execution_count": 5,
     "metadata": {},
     "output_type": "execute_result"
    }
   ],
   "source": [
    "max_payload"
   ]
  },
  {
   "cell_type": "code",
   "execution_count": 6,
   "id": "726ab26b-63ff-4d7a-b4b8-f41772d55ce0",
   "metadata": {},
   "outputs": [
    {
     "data": {
      "text/plain": [
       "0.0"
      ]
     },
     "execution_count": 6,
     "metadata": {},
     "output_type": "execute_result"
    }
   ],
   "source": [
    "min_payload"
   ]
  },
  {
   "cell_type": "code",
   "execution_count": 7,
   "id": "065d9488-9da7-48ec-ba69-96c05bbac7dc",
   "metadata": {},
   "outputs": [
    {
     "data": {
      "text/plain": [
       "['CCAFS LC-40', 'VAFB SLC-4E', 'KSC LC-39A', 'CCAFS SLC-40']"
      ]
     },
     "execution_count": 7,
     "metadata": {},
     "output_type": "execute_result"
    }
   ],
   "source": [
    "launch_site_list = spacex_df[\"Launch Site\"].unique().tolist()\n",
    "launch_site_list"
   ]
  },
  {
   "cell_type": "code",
   "execution_count": 8,
   "id": "08e6beb9-5b73-4a4e-91ed-e90ad59739da",
   "metadata": {},
   "outputs": [],
   "source": [
    "label_dict_list = [{'label': 'All Sites'}]\n",
    "for i in range(len(launch_site_list)):\n",
    "    label_dict_list.append({'label':launch_site_list[i]})"
   ]
  },
  {
   "cell_type": "code",
   "execution_count": 9,
   "id": "58621390-31ec-4a2c-8674-0825e49aec7c",
   "metadata": {},
   "outputs": [
    {
     "data": {
      "text/plain": [
       "[{'label': 'All Sites'},\n",
       " {'label': 'CCAFS LC-40'},\n",
       " {'label': 'VAFB SLC-4E'},\n",
       " {'label': 'KSC LC-39A'},\n",
       " {'label': 'CCAFS SLC-40'}]"
      ]
     },
     "execution_count": 9,
     "metadata": {},
     "output_type": "execute_result"
    }
   ],
   "source": [
    "label_dict_list"
   ]
  },
  {
   "cell_type": "code",
   "execution_count": 10,
   "id": "cd07303b-2236-4f14-b52f-385e9d1f0710",
   "metadata": {},
   "outputs": [],
   "source": [
    "value_dict_list = [{'value': 'ALL'}]\n",
    "for i in range(len(launch_site_list)):\n",
    "    value_dict_list.append({'value':launch_site_list[i]})"
   ]
  },
  {
   "cell_type": "code",
   "execution_count": 11,
   "id": "31a80e69-cd3a-4c0a-9a0e-3f5cbcb16242",
   "metadata": {},
   "outputs": [
    {
     "data": {
      "text/plain": [
       "[{'value': 'ALL'},\n",
       " {'value': 'CCAFS LC-40'},\n",
       " {'value': 'VAFB SLC-4E'},\n",
       " {'value': 'KSC LC-39A'},\n",
       " {'value': 'CCAFS SLC-40'}]"
      ]
     },
     "execution_count": 11,
     "metadata": {},
     "output_type": "execute_result"
    }
   ],
   "source": [
    "value_dict_list"
   ]
  },
  {
   "cell_type": "code",
   "execution_count": 12,
   "id": "5c678022-6459-4ad5-bc3c-eaef6a0d163a",
   "metadata": {},
   "outputs": [],
   "source": [
    "merged_list_of_dicts = []\n",
    "for i in range(len(value_dict_list)):\n",
    "    merged_list_of_dicts.append(label_dict_list[i] | value_dict_list[i])"
   ]
  },
  {
   "cell_type": "code",
   "execution_count": 13,
   "id": "ced6d480-3579-4193-932e-8b6dc757f709",
   "metadata": {},
   "outputs": [
    {
     "data": {
      "text/plain": [
       "[{'label': 'All Sites', 'value': 'ALL'},\n",
       " {'label': 'CCAFS LC-40', 'value': 'CCAFS LC-40'},\n",
       " {'label': 'VAFB SLC-4E', 'value': 'VAFB SLC-4E'},\n",
       " {'label': 'KSC LC-39A', 'value': 'KSC LC-39A'},\n",
       " {'label': 'CCAFS SLC-40', 'value': 'CCAFS SLC-40'}]"
      ]
     },
     "execution_count": 13,
     "metadata": {},
     "output_type": "execute_result"
    }
   ],
   "source": [
    "merged_list_of_dicts"
   ]
  },
  {
   "cell_type": "code",
   "execution_count": 14,
   "id": "1d95f2fa-5e4e-42dc-817a-7321576035c2",
   "metadata": {},
   "outputs": [],
   "source": [
    "# Create a dash application\n",
    "app = dash.Dash(__name__)"
   ]
  },
  {
   "cell_type": "code",
   "execution_count": 15,
   "id": "b919ce92-12a6-4de8-82d1-4135dcaa4bfc",
   "metadata": {},
   "outputs": [],
   "source": [
    "#spacex_df.head(15)"
   ]
  },
  {
   "cell_type": "code",
   "execution_count": 16,
   "id": "aa2003a5-ee46-4619-ae7f-a3b47aab4977",
   "metadata": {},
   "outputs": [],
   "source": [
    "# Method to filter dataframe for specific value\n",
    "#spacex_df[spacex_df[\"Launch Site\"] == \"CCAFS LC-40\"].groupby(['class']).count()"
   ]
  },
  {
   "cell_type": "code",
   "execution_count": 17,
   "id": "590eb19d-c1f9-4c80-9ed1-8e451e2ceffb",
   "metadata": {},
   "outputs": [],
   "source": [
    "# Function decorator to specify function input and output\n",
    "@app.callback(Output(component_id='success-pie-chart', component_property='figure'),\n",
    "              Input(component_id='site-dropdown', component_property='value'))\n",
    "\n",
    "def get_pie_chart(entered_site):\n",
    "    filtered_df = spacex_df\n",
    "    if entered_site == 'ALL':\n",
    "        fig = px.pie(spacex_df, \n",
    "                 values = 'class', \n",
    "                 names  = 'Launch Site', \n",
    "                 title  = 'Total Successful Launches By Site')\n",
    "        return fig\n",
    "    else:\n",
    "        # return the outcomes piechart for a selected site\n",
    "        filtered_df = spacex_df[spacex_df[\"Launch Site\"] == entered_site].groupby(['class']).count()\n",
    "        fig = px.pie(filtered_df,\n",
    "                 values = 'Unnamed: 0',\n",
    "                 names = ['Failure', 'Success'],\n",
    "                 title = 'Total Successful Launches for site ' + entered_site)\n",
    "        return fig       "
   ]
  },
  {
   "cell_type": "code",
   "execution_count": 18,
   "id": "30bb128e-d588-43ad-a225-145a689504eb",
   "metadata": {},
   "outputs": [],
   "source": [
    "# For debug\n",
    "#spacex_df[(spacex_df['Payload Mass (kg)'] >= 5000) & \\\n",
    "#          (spacex_df['Payload Mass (kg)'] <= 7500)]"
   ]
  },
  {
   "cell_type": "code",
   "execution_count": 19,
   "id": "19377b4f-e39e-4299-83c7-96451b296bc0",
   "metadata": {},
   "outputs": [],
   "source": [
    "# For debug\n",
    "#filtered_df_lvl1 = spacex_df[spacex_df[\"Launch Site\"] == \"CCAFS LC-40\"]\n",
    "#filtered_df_lvl2 = filtered_df_lvl1[(filtered_df_lvl1['Payload Mass (kg)'] >= 2000) & \\\n",
    "#                  (filtered_df_lvl1['Payload Mass (kg)'] <= 5000)]\n",
    "#filtered_df_lvl2"
   ]
  },
  {
   "cell_type": "code",
   "execution_count": 20,
   "id": "39fccdc4-e05b-471e-9612-474c59b0796e",
   "metadata": {},
   "outputs": [],
   "source": [
    "# For debug\n",
    "#{i: '{}'.format(i) for i in range(0, 10001, 1000)}"
   ]
  },
  {
   "cell_type": "code",
   "execution_count": 21,
   "id": "12500a30-bc22-4eca-aa4b-ba369960824e",
   "metadata": {},
   "outputs": [],
   "source": [
    "# Function decorator to specify function input and output\n",
    "@app.callback( Output (component_id='success-payload-scatter-chart', component_property='figure'),\n",
    "              [Input  (component_id='site-dropdown',                 component_property='value'),\n",
    "               Input  (component_id='payload-slider',                component_property='value')])\n",
    "\n",
    "def get_scatter_plot(entered_site, payload_slider_value):\n",
    "    filtered_df = spacex_df\n",
    "    if entered_site == 'ALL':\n",
    "        filtered_df = \\\n",
    "           spacex_df[(spacex_df['Payload Mass (kg)'] >= payload_slider_value[0]) & \\\n",
    "                     (spacex_df['Payload Mass (kg)'] <= payload_slider_value[1])]\n",
    "        fig = px.scatter(filtered_df,\n",
    "                 x     = 'Payload Mass (kg)',\n",
    "                 y     = 'class',\n",
    "                 color = 'Booster Version Category',\n",
    "                 title = 'Correlation between Payload Mass (kg) and Success For All Sites')\n",
    "        # For debug\n",
    "        #print(payload_slider_value[0], payload_slider_value[1])\n",
    "        return fig\n",
    "    else:\n",
    "        filtered_df_lvl1 = spacex_df[spacex_df[\"Launch Site\"] == entered_site]\n",
    "        filtered_df_lvl2 = filtered_df_lvl1[(filtered_df_lvl1['Payload Mass (kg)'] >= payload_slider_value[0]) & \\\n",
    "                          (filtered_df_lvl1['Payload Mass (kg)'] <= payload_slider_value[1])]\n",
    "        fig = px.scatter(filtered_df_lvl2,\n",
    "                 x     = 'Payload Mass (kg)',\n",
    "                 y     = 'class',\n",
    "                 color = 'Booster Version Category',\n",
    "                 title = 'Correlation between Payload Mass (kg) and Success For ' + entered_site)\n",
    "        return fig"
   ]
  },
  {
   "cell_type": "code",
   "execution_count": 22,
   "id": "56bbc53c-8cfa-4952-b1c1-143d59351eb7",
   "metadata": {},
   "outputs": [],
   "source": [
    "# Create an app layout\n",
    "app.layout = html.Div(children = \n",
    "                      [html.H1('SpaceX Launch Records Dashboard',\n",
    "                       style={'textAlign': 'center', \n",
    "                              'color': '#503D36',\n",
    "                              'font-size': 40}),\n",
    "                                \n",
    "                                \n",
    "                                # TASK 1: Add a dropdown list to enable Launch Site selection\n",
    "                                # The default select value is for ALL sites\n",
    "                                # dcc.Dropdown(id='site-dropdown',...)\n",
    "                                \n",
    "                                dcc.Dropdown(\n",
    "                                    id      ='site-dropdown',\n",
    "                                    options = merged_list_of_dicts,\n",
    "                                    value='ALL',\n",
    "                                    placeholder=\"Select a Launch Site\",\n",
    "                                    searchable=True\n",
    "                                ),\n",
    "                                \n",
    "                                html.Br(),\n",
    "                                \n",
    "                                # TASK 2: Add a pie chart to show the total successful launches count for all sites\n",
    "                                # Add a callback function for `site-dropdown` as input, `success-pie-chart` as output\n",
    "                                html.Div(dcc.Graph(id='success-pie-chart')),\n",
    "                                \n",
    "                                html.Br(),\n",
    "\n",
    "                                html.P(\"Payload range (Kg):\"),\n",
    "                      \n",
    "                                # TASK 3: Add a slider to select payload range\n",
    "                                #dcc.RangeSlider(id='payload-slider',...)\n",
    "                                dcc.RangeSlider(\n",
    "                                  id    = 'payload-slider',\n",
    "                                  min   = 0, # kg\n",
    "                                  max   = 10000, # kg\n",
    "                                  step  = 1000, # kg\n",
    "                                  marks = {i: '{}'.format(i) for i in range(0, 10001, 1000)},\n",
    "                                  value = [min_payload, max_payload]\n",
    "                              ),\n",
    "                       \n",
    "                              html.Br(),\n",
    "                              \n",
    "                              # TASK 4:\n",
    "                              # Add a callback function for `site-dropdown` and `payload-slider` as inputs, `success-payload-scatter-chart` as output\n",
    "                              html.Div(dcc.Graph(id='success-payload-scatter-chart')),\n",
    "                       \n",
    "                               \n",
    "                                         \n",
    "                      ])"
   ]
  },
  {
   "cell_type": "code",
   "execution_count": 23,
   "id": "c30eb85d-d70b-45fd-a4e6-84a7a59d32c9",
   "metadata": {},
   "outputs": [
    {
     "name": "stdout",
     "output_type": "stream",
     "text": [
      "Dash is running on http://127.0.0.1:8050/\n",
      "\n",
      " * Serving Flask app \"__main__\" (lazy loading)\n",
      " * Environment: production\n",
      "\u001b[31m   WARNING: This is a development server. Do not use it in a production deployment.\u001b[0m\n",
      "\u001b[2m   Use a production WSGI server instead.\u001b[0m\n",
      " * Debug mode: off\n"
     ]
    },
    {
     "name": "stderr",
     "output_type": "stream",
     "text": [
      " * Running on http://127.0.0.1:8050/ (Press CTRL+C to quit)\n",
      "127.0.0.1 - - [01/Dec/2022 00:35:30] \"POST /_dash-update-component HTTP/1.1\" 200 -\n",
      "127.0.0.1 - - [01/Dec/2022 00:35:30] \"POST /_dash-update-component HTTP/1.1\" 200 -\n",
      "127.0.0.1 - - [01/Dec/2022 00:35:34] \"POST /_dash-update-component HTTP/1.1\" 200 -\n",
      "127.0.0.1 - - [01/Dec/2022 00:35:34] \"POST /_dash-update-component HTTP/1.1\" 200 -\n",
      "127.0.0.1 - - [01/Dec/2022 00:37:33] \"POST /_dash-update-component HTTP/1.1\" 200 -\n",
      "127.0.0.1 - - [01/Dec/2022 00:37:33] \"POST /_dash-update-component HTTP/1.1\" 200 -\n",
      "127.0.0.1 - - [01/Dec/2022 00:37:46] \"POST /_dash-update-component HTTP/1.1\" 200 -\n",
      "127.0.0.1 - - [01/Dec/2022 00:37:50] \"POST /_dash-update-component HTTP/1.1\" 200 -\n",
      "127.0.0.1 - - [01/Dec/2022 00:37:57] \"POST /_dash-update-component HTTP/1.1\" 200 -\n",
      "127.0.0.1 - - [01/Dec/2022 00:38:00] \"POST /_dash-update-component HTTP/1.1\" 200 -\n",
      "127.0.0.1 - - [01/Dec/2022 00:38:03] \"POST /_dash-update-component HTTP/1.1\" 200 -\n",
      "127.0.0.1 - - [01/Dec/2022 00:38:07] \"POST /_dash-update-component HTTP/1.1\" 200 -\n",
      "127.0.0.1 - - [01/Dec/2022 00:38:10] \"POST /_dash-update-component HTTP/1.1\" 200 -\n",
      "127.0.0.1 - - [01/Dec/2022 00:38:13] \"POST /_dash-update-component HTTP/1.1\" 200 -\n",
      "127.0.0.1 - - [01/Dec/2022 00:38:19] \"POST /_dash-update-component HTTP/1.1\" 200 -\n",
      "127.0.0.1 - - [01/Dec/2022 00:38:21] \"POST /_dash-update-component HTTP/1.1\" 200 -\n",
      "127.0.0.1 - - [01/Dec/2022 00:38:23] \"POST /_dash-update-component HTTP/1.1\" 200 -\n",
      "127.0.0.1 - - [01/Dec/2022 00:38:28] \"POST /_dash-update-component HTTP/1.1\" 200 -\n",
      "127.0.0.1 - - [01/Dec/2022 00:38:33] \"POST /_dash-update-component HTTP/1.1\" 200 -\n",
      "127.0.0.1 - - [01/Dec/2022 00:38:37] \"POST /_dash-update-component HTTP/1.1\" 200 -\n",
      "127.0.0.1 - - [01/Dec/2022 00:38:44] \"POST /_dash-update-component HTTP/1.1\" 200 -\n",
      "127.0.0.1 - - [01/Dec/2022 00:38:47] \"POST /_dash-update-component HTTP/1.1\" 200 -\n",
      "127.0.0.1 - - [01/Dec/2022 00:38:51] \"POST /_dash-update-component HTTP/1.1\" 200 -\n",
      "127.0.0.1 - - [01/Dec/2022 00:38:54] \"POST /_dash-update-component HTTP/1.1\" 200 -\n",
      "127.0.0.1 - - [01/Dec/2022 00:39:00] \"POST /_dash-update-component HTTP/1.1\" 200 -\n",
      "127.0.0.1 - - [01/Dec/2022 00:39:02] \"POST /_dash-update-component HTTP/1.1\" 200 -\n",
      "127.0.0.1 - - [01/Dec/2022 00:39:06] \"POST /_dash-update-component HTTP/1.1\" 200 -\n",
      "127.0.0.1 - - [01/Dec/2022 00:39:09] \"POST /_dash-update-component HTTP/1.1\" 200 -\n",
      "127.0.0.1 - - [01/Dec/2022 00:39:13] \"POST /_dash-update-component HTTP/1.1\" 200 -\n",
      "127.0.0.1 - - [01/Dec/2022 00:39:17] \"POST /_dash-update-component HTTP/1.1\" 200 -\n",
      "127.0.0.1 - - [01/Dec/2022 00:39:20] \"POST /_dash-update-component HTTP/1.1\" 200 -\n",
      "127.0.0.1 - - [01/Dec/2022 00:39:26] \"POST /_dash-update-component HTTP/1.1\" 200 -\n",
      "127.0.0.1 - - [01/Dec/2022 00:39:33] \"POST /_dash-update-component HTTP/1.1\" 200 -\n",
      "127.0.0.1 - - [01/Dec/2022 00:39:37] \"POST /_dash-update-component HTTP/1.1\" 200 -\n",
      "127.0.0.1 - - [01/Dec/2022 00:39:43] \"POST /_dash-update-component HTTP/1.1\" 200 -\n",
      "127.0.0.1 - - [01/Dec/2022 00:39:49] \"POST /_dash-update-component HTTP/1.1\" 200 -\n",
      "127.0.0.1 - - [01/Dec/2022 00:39:54] \"POST /_dash-update-component HTTP/1.1\" 200 -\n",
      "127.0.0.1 - - [01/Dec/2022 00:40:01] \"POST /_dash-update-component HTTP/1.1\" 200 -\n",
      "127.0.0.1 - - [01/Dec/2022 00:40:09] \"POST /_dash-update-component HTTP/1.1\" 200 -\n",
      "127.0.0.1 - - [01/Dec/2022 00:40:11] \"POST /_dash-update-component HTTP/1.1\" 200 -\n",
      "127.0.0.1 - - [01/Dec/2022 00:40:27] \"POST /_dash-update-component HTTP/1.1\" 200 -\n",
      "127.0.0.1 - - [01/Dec/2022 00:40:43] \"POST /_dash-update-component HTTP/1.1\" 200 -\n",
      "127.0.0.1 - - [01/Dec/2022 00:40:56] \"POST /_dash-update-component HTTP/1.1\" 200 -\n",
      "127.0.0.1 - - [01/Dec/2022 00:40:59] \"POST /_dash-update-component HTTP/1.1\" 200 -\n",
      "127.0.0.1 - - [01/Dec/2022 00:46:48] \"POST /_dash-update-component HTTP/1.1\" 200 -\n",
      "127.0.0.1 - - [01/Dec/2022 00:46:51] \"POST /_dash-update-component HTTP/1.1\" 200 -\n",
      "127.0.0.1 - - [01/Dec/2022 00:47:02] \"POST /_dash-update-component HTTP/1.1\" 200 -\n"
     ]
    }
   ],
   "source": [
    "app.run_server()"
   ]
  },
  {
   "cell_type": "markdown",
   "id": "b821ea6c-d39f-4935-b8ad-5a357f2ba7e2",
   "metadata": {},
   "source": [
    "Questions:\n",
    "1. Which site has the largest successful launches?\n",
    "Answer: KSC LC-39A\n",
    "2. Which site has the highest launch success rate?\n",
    "Answer: CCAFS SLC-40\n",
    "3. Which payload range(s) has the highest launch success rate?\n",
    "Answer: 2500kg - 5000kg (not immediately clear how to answer)\n",
    "4. Which payload range(s) has the lowest launch success rate?\n",
    "Answer: 5000kg - 7500kg (not immediately clear how to answer)\n",
    "5. Which F9 Booster version (v1.0, v1.1, FT, B4, B5, etc.) has the highest launch success rate?\n",
    "Answer: Clearly it is FT."
   ]
  }
 ],
 "metadata": {
  "kernelspec": {
   "display_name": "Python 3 (ipykernel)",
   "language": "python",
   "name": "python3"
  },
  "language_info": {
   "codemirror_mode": {
    "name": "ipython",
    "version": 3
   },
   "file_extension": ".py",
   "mimetype": "text/x-python",
   "name": "python",
   "nbconvert_exporter": "python",
   "pygments_lexer": "ipython3",
   "version": "3.9.15"
  }
 },
 "nbformat": 4,
 "nbformat_minor": 5
}
